{
 "cells": [
  {
   "cell_type": "markdown",
   "metadata": {},
   "source": [
    "# Tutorial 1: Python Cheat Sheet\n",
    "### Dr. Daugherity, PHYS 453 - Spring 2020\n",
    "\n",
    "Remember that professional programmers Google the most basic things *every single day*.  Every time I switch languages I always have to remind myself of the syntax. So here is my **python cheat sheet** to help us get started. \n",
    "\n",
    "\n",
    "### Notes for people used to C++\n",
    "* **EVERYTHING** is an object\n",
    "* **Dynamic Typing** (aka duck typing: if it acts like a duck then we can treat it like a duck)\n",
    "* **WHITESPACE MATTERS!**  \n",
    "\n",
    "Finally, I strongly recommend the [Whirlwind Tour of Python](http://nbviewer.jupyter.org/github/jakevdp/WhirlwindTourOfPython/tree/master) if you need a refresher"
   ]
  },
  {
   "cell_type": "markdown",
   "metadata": {},
   "source": [
    "# Jupyter Notebook\n",
    "Let's start with our editor of choice.  \n",
    "\n",
    "**REFERENCES**\n",
    "* https://jupyterlab.readthedocs.io/en/stable/index.html\n",
    "* https://towardsdatascience.com/jypyter-notebook-shortcuts-bf0101a98330\n",
    "\n",
    "Cells have two useful styles: Markdown and Code.\n",
    "\n",
    "## Markdown\n",
    "https://guides.github.com/features/mastering-markdown/\n",
    "\n",
    "* Section headers start with # (use more ##'s for deeper levels)\n",
    "* _Italics_ is either \\_this\\_ or \\*this\\*\n",
    "* **Bold** is \\*this\\*\n",
    "* Links are \\[name\\](url) \n",
    "\n",
    "## Command Mode\n",
    "Active mode when you're  not working within a cell (press esc to switch to command mode).  A few useful keyboard shortcuts are:\n",
    "* M to make cell markdown, Y to make it code\n",
    "* X,C,V for cut, copy, paste\n",
    "* CTRL-Enter  run current cell\n",
    "* SHIFT-Enter run current cell and advance\n",
    "* ALT-Enter run current cell and insert new cell below\n",
    "\n",
    "## Edit Mode\n",
    "Active mode when you are editing a cell (press enter to switch to edit mode)\n",
    "* TAB indent and autocomplete\n",
    "* SHIFT-TAB tooltip\n",
    "* CTRL + [ or ] to indent or unindent\n"
   ]
  },
  {
   "cell_type": "markdown",
   "metadata": {},
   "source": [
    "---\n",
    "# PYTHON STUFF\n",
    "Here's a quick cheat sheet to remind us how python works.\n",
    "Again, I strongly recommend the [Whirlwind Tour of Python](http://nbviewer.jupyter.org/github/jakevdp/WhirlwindTourOfPython/tree/master) for more.  "
   ]
  },
  {
   "cell_type": "markdown",
   "metadata": {},
   "source": [
    "## Logic and loops"
   ]
  },
  {
   "cell_type": "code",
   "execution_count": 1,
   "metadata": {},
   "outputs": [
    {
     "name": "stdout",
     "output_type": "stream",
     "text": [
      "Zero\n"
     ]
    }
   ],
   "source": [
    "# Logic - if statements need colons and whitespace!\n",
    "x=0\n",
    "if x>0:\n",
    "    print(\"Positive\")\n",
    "elif x<0:\n",
    "print(\"Negative\")\n",
    "else:\n",
    "    print(\"Zero\")"
   ]
  },
  {
   "cell_type": "code",
   "execution_count": 2,
   "metadata": {},
   "outputs": [
    {
     "name": "stdout",
     "output_type": "stream",
     "text": [
      "0\n",
      "1\n",
      "2\n"
     ]
    }
   ],
   "source": [
    "#for loop - only acts on lists of things\n",
    "for i in [0,1,2]:\n",
    "    print(i)"
   ]
  },
  {
   "cell_type": "code",
   "execution_count": 3,
   "metadata": {},
   "outputs": [
    {
     "name": "stdout",
     "output_type": "stream",
     "text": [
      "0\n",
      "1\n",
      "2\n"
     ]
    }
   ],
   "source": [
    "for i in range(3):\n",
    "    print(i)"
   ]
  },
  {
   "cell_type": "code",
   "execution_count": 4,
   "metadata": {},
   "outputs": [
    {
     "name": "stdout",
     "output_type": "stream",
     "text": [
      "3\n",
      "2\n",
      "1\n",
      "0\n"
     ]
    }
   ],
   "source": [
    "# while loop\n",
    "i=3\n",
    "while i>=0:\n",
    "    print(i)\n",
    "    i-=1"
   ]
  },
  {
   "cell_type": "markdown",
   "metadata": {},
   "source": [
    "## Output\n",
    "New to python 3.6 is f-strings which are now my favorite way to do console output\n",
    "\n",
    "https://docs.python.org/3/reference/lexical_analysis.html#f-strings"
   ]
  },
  {
   "cell_type": "code",
   "execution_count": 5,
   "metadata": {},
   "outputs": [
    {
     "name": "stdout",
     "output_type": "stream",
     "text": [
      "3.6.7\n"
     ]
    }
   ],
   "source": [
    "from platform import python_version\n",
    "print(python_version())"
   ]
  },
  {
   "cell_type": "code",
   "execution_count": 6,
   "metadata": {},
   "outputs": [
    {
     "name": "stdout",
     "output_type": "stream",
     "text": [
      "3.1416\n",
      "The value of pi is 3.1416\n",
      "The value of pi is 3.142\n",
      "The value of pi is   3.141600\n",
      "The value of pi is 3\n",
      "The value of pi is 3.141600e+00\n",
      "A big number with commas is 1,234,567\n"
     ]
    }
   ],
   "source": [
    "p = 3.1416\n",
    "print(p)\n",
    "print(f\"The value of pi is {p}\")\n",
    "print(f\"The value of pi is {p:5.3f}\")  # float with min width of 5 and 3 decimal places\n",
    "print(f\"The value of pi is {p:10.6f}\") # float with min width of 10 and 6 decimal places\n",
    "print(f\"The value of pi is {p:1.0f}\")  # integer\n",
    "print(f\"The value of pi is {p:e}\")     # scientific\n",
    "print(f\"A big number with commas is {1234567:,}\")  # Commas, wow!"
   ]
  },
  {
   "cell_type": "markdown",
   "metadata": {},
   "source": [
    "But remember that the *best way to print something* is to just type the variable name"
   ]
  },
  {
   "cell_type": "code",
   "execution_count": 7,
   "metadata": {},
   "outputs": [
    {
     "data": {
      "text/plain": [
       "3.1416"
      ]
     },
     "execution_count": 7,
     "metadata": {},
     "output_type": "execute_result"
    }
   ],
   "source": [
    "p = 3.1416\n",
    "p"
   ]
  }
 ],
 "metadata": {
  "kernelspec": {
   "display_name": "Python 3",
   "language": "python",
   "name": "python3"
  },
  "language_info": {
   "codemirror_mode": {
    "name": "ipython",
    "version": 3
   },
   "file_extension": ".py",
   "mimetype": "text/x-python",
   "name": "python",
   "nbconvert_exporter": "python",
   "pygments_lexer": "ipython3",
   "version": "3.6.7"
  }
 },
 "nbformat": 4,
 "nbformat_minor": 4
}
