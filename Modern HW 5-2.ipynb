{
 "cells": [
  {
   "cell_type": "markdown",
   "metadata": {
    "colab_type": "text",
    "id": "m7WjjzAHFV3B"
   },
   "source": [
    "# Modern Physics Homework 5-2\n",
    "### Schrodinger Code\n",
    "\n",
    "\n"
   ]
  },
  {
   "cell_type": "code",
   "execution_count": 1,
   "metadata": {
    "colab": {},
    "colab_type": "code",
    "id": "YvtArnwhFPom"
   },
   "outputs": [],
   "source": [
    "import numpy as np\n",
    "import matplotlib.pyplot as plt\n",
    "from scipy import integrate"
   ]
  },
  {
   "cell_type": "code",
   "execution_count": 2,
   "metadata": {
    "colab": {},
    "colab_type": "code",
    "id": "arkxVXMsBkks"
   },
   "outputs": [],
   "source": [
    "# Constants - all energies in eV, lengths in nm\n",
    "hbarc = 197  # hbar * c [eV nm]\n",
    "mc2 = 511000 # electron mass energy [eV]"
   ]
  },
  {
   "cell_type": "markdown",
   "metadata": {
    "colab_type": "text",
    "id": "e7uijBNjBwiA"
   },
   "source": [
    "Evaluate Schrodingers Equation with various potentials:  \n",
    "$\\psi'' = -\\frac{2 mc^2 (E-U)}{(\\hbar c)^2} \\psi $\n",
    "\n",
    "To use python's differential equation tools, we need to define a function that returns the 1st and 2nd derivatives.  We will define a vector `y` as $y[0] = \\psi$ and $y[1]=\\psi'$.  Then our function returns:\n",
    "* the derivative of $y[0]$ which is $y[1]$\n",
    "* the derivative of $y[1]$, or $\\psi''$, which we get from Schrodinger\n",
    " "
   ]
  },
  {
   "cell_type": "code",
   "execution_count": 3,
   "metadata": {
    "colab": {},
    "colab_type": "code",
    "id": "9Zkrg1aXBteE"
   },
   "outputs": [],
   "source": [
    "# Infinite Square Well: U=0 inside well and infinity outside\n",
    "# Textbook equation (5.15)\n",
    "def ISW(x, y):\n",
    "  U=0\n",
    "  k2 = 2*mc2*(E-U)/(hbarc**2)   # k squared\n",
    "  return [y[1], -k2 * y[0]]     # y'' = -k^2 y   "
   ]
  },
  {
   "cell_type": "code",
   "execution_count": 4,
   "metadata": {
    "colab": {},
    "colab_type": "code",
    "id": "4RwLNv6WEBny"
   },
   "outputs": [],
   "source": [
    "# Finite Square Well: U=0 inside well and U0 outside\n",
    "# Textbook equation (5.15) inside and (5.17) outside\n",
    "U0 = 400  # height of potential outside well\n",
    "L = 0.1\n",
    "def FSW(x, y):\n",
    "    if x<0 or x>L : k2 = 2*mc2*(U0-E)/(hbarc**2)   # k squared outside well\n",
    "    else: k2 = -2*mc2*E/(hbarc**2)   # k squared inside well\n",
    "    return [y[1], k2 * y[0]] # y'' = k^2 y   (+ outside, - inside)\n"
   ]
  },
  {
   "cell_type": "markdown",
   "metadata": {
    "colab_type": "text",
    "id": "Bm6HOuGqE9AC"
   },
   "source": [
    "# Example 1 - ISW\n",
    "Show the wavefunction with a fixed energy in a given potential.\n",
    "\n",
    "We do this by starting at the left side and numerically integrating the Schrodinger Equation across to the right side.  This code does **not** consider boundary conditions\n"
   ]
  },
  {
   "cell_type": "code",
   "execution_count": 5,
   "metadata": {
    "colab": {
     "base_uri": "https://localhost:8080/",
     "height": 317
    },
    "colab_type": "code",
    "executionInfo": {
     "elapsed": 775,
     "status": "ok",
     "timestamp": 1583356334696,
     "user": {
      "displayName": "Michael Daugherity",
      "photoUrl": "https://lh3.googleusercontent.com/a-/AOh14GgFrBEaFGjY972VDR39rPBYp59l9e_QeF0QvpNiGg=s64",
      "userId": "00285678871046645437"
     },
     "user_tz": 360
    },
    "id": "LdB_t9bjF0Pw",
    "outputId": "eaa72b7c-4cca-4d87-e0ce-5140c052b074"
   },
   "outputs": [
    {
     "data": {
      "image/png": "[encoded data removed]",
      "text/plain": [
       "<Figure size 432x288 with 1 Axes>"
      ]
     },
     "metadata": {
      "needs_background": "light"
     },
     "output_type": "display_data"
    },
    {
     "name": "stdout",
     "output_type": "stream",
     "text": [
      "The wavefunction at x=L is  0.032639281972084856\n"
     ]
    }
   ],
   "source": [
    "# Show Wavefunction with a fixed energy\n",
    "E = 20  # energy [eV]\n",
    "L = 0.1  # width [nm]\n",
    "\n",
    "x_range = [0, L]\n",
    "y0 = [0, 1]  # initial values of psi and psi', only the signs matter here\n",
    "\n",
    "sol = integrate.solve_ivp(ISW,x_range,y0,max_step=0.001) # first argument is the potential function\n",
    "\n",
    "plt.figure()\n",
    "plt.plot(sol.t, sol.y[0])\n",
    "plt.title(f'Infinite Square Well:  E={E}')\n",
    "plt.xlabel('$x$ [nm]')\n",
    "plt.ylabel('$\\psi(x)$')\n",
    "\n",
    "plt.grid()\n",
    "plt.show()\n",
    "print(\"The wavefunction at x=L is \",sol.y[0,-1])"
   ]
  },
  {
   "cell_type": "markdown",
   "metadata": {
    "colab_type": "text",
    "id": "dK1tWwzxGHiW"
   },
   "source": [
    "# Example 2 - FSW\n"
   ]
  },
  {
   "cell_type": "code",
   "execution_count": 6,
   "metadata": {
    "colab": {
     "base_uri": "https://localhost:8080/",
     "height": 317
    },
    "colab_type": "code",
    "executionInfo": {
     "elapsed": 1029,
     "status": "ok",
     "timestamp": 1583356334959,
     "user": {
      "displayName": "Michael Daugherity",
      "photoUrl": "https://lh3.googleusercontent.com/a-/AOh14GgFrBEaFGjY972VDR39rPBYp59l9e_QeF0QvpNiGg=s64",
      "userId": "00285678871046645437"
     },
     "user_tz": 360
    },
    "id": "26ptxQwEK4H7",
    "outputId": "f4494c05-ea42-44ae-824e-794bcfd7c7b2"
   },
   "outputs": [
    {
     "data": {
      "image/png": "[encoded data removed]",
      "text/plain": [
       "<Figure size 432x288 with 1 Axes>"
      ]
     },
     "metadata": {
      "needs_background": "light"
     },
     "output_type": "display_data"
    },
    {
     "name": "stdout",
     "output_type": "stream",
     "text": [
      "The wavefunction at the right edge is  97.67421303941197\n"
     ]
    }
   ],
   "source": [
    "E = 20 # energy [eV]\n",
    "y0 = [0, 1]\n",
    "x_range = [-0.05, 0.15]\n",
    "sol = integrate.solve_ivp(FSW,x_range,y0,max_step=0.001)\n",
    "\n",
    "plt.figure()\n",
    "plt.plot(sol.t, sol.y[0])\n",
    "plt.title(f'Finite Square Well:  E={E}')\n",
    "plt.xlabel('$x$ [nm]')\n",
    "plt.ylabel('$\\psi(x)$')\n",
    "\n",
    "plt.grid()\n",
    "plt.show()\n",
    "print(\"The wavefunction at the right edge is \",sol.y[0,-1])"
   ]
  }
 ],
 "metadata": {
  "colab": {
   "authorship_tag": "ABX9TyNSky7dN1UffFoQ1G2aKpx4",
   "collapsed_sections": [],
   "name": "Modern HW 5-2.ipynb",
   "provenance": []
  },
  "kernelspec": {
   "display_name": "Python 3",
   "language": "python",
   "name": "python3"
  },
  "language_info": {
   "codemirror_mode": {
    "name": "ipython",
    "version": 3
   },
   "file_extension": ".py",
   "mimetype": "text/x-python",
   "name": "python",
   "nbconvert_exporter": "python",
   "pygments_lexer": "ipython3",
   "version": "3.6.10"
  }
 },
 "nbformat": 4,
 "nbformat_minor": 4
}
